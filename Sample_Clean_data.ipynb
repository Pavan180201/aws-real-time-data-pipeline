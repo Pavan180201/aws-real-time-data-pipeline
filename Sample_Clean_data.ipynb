{
 "cells": [
  {
   "cell_type": "code",
   "execution_count": null,
   "id": "603a9518",
   "metadata": {},
   "outputs": [],
   "source": [
    "{\n",
    "  \"timestamp\": \"2025-06-23T00:22:24\",\n",
    "  \"product\": \"Laptop\",\n",
    "  \"quantity\": 2,\n",
    "  \"price\": 799.99\n",
    "}"
   ]
  }
 ],
 "metadata": {
  "language_info": {
   "name": "python"
  }
 },
 "nbformat": 4,
 "nbformat_minor": 5
}
